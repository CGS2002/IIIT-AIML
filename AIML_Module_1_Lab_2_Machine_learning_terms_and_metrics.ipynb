{
  "nbformat": 4,
  "nbformat_minor": 0,
  "metadata": {
    "colab": {
      "provenance": [],
      "include_colab_link": true
    },
    "kernelspec": {
      "name": "python3",
      "display_name": "Python 3"
    },
    "language_info": {
      "name": "python"
    }
  },
  "cells": [
    {
      "cell_type": "markdown",
      "metadata": {
        "id": "view-in-github",
        "colab_type": "text"
      },
      "source": [
        "<a href=\"https://colab.research.google.com/github/CGS2002/IIIT-AIML/blob/main/AIML_Module_1_Lab_2_Machine_learning_terms_and_metrics.ipynb\" target=\"_parent\"><img src=\"https://colab.research.google.com/assets/colab-badge.svg\" alt=\"Open In Colab\"/></a>"
      ]
    },
    {
      "cell_type": "markdown",
      "metadata": {
        "id": "3Eu9VZbF01eq"
      },
      "source": [
        "##AIML Module 1 - Lab 2\n",
        "# Machine learning terms and metrics\n",
        "\n",
        "\n",
        " In this lab, we will show a part of the ML pipeline by extracting features, training and testing"
      ]
    },
    {
      "cell_type": "code",
      "metadata": {
        "id": "8qBvyEem0vLi"
      },
      "source": [
        "import matplotlib.pyplot as plt\n",
        "import numpy as np\n",
        "from sklearn import datasets\n",
        "# set randomseed\n",
        "rng = np.random.default_rng(seed=42)"
      ],
      "execution_count": 111,
      "outputs": []
    },
    {
      "cell_type": "markdown",
      "metadata": {
        "id": "u3t59g5s1HfC"
      },
      "source": [
        "In this lab, we will use the California Housing dataset. There are 20640 samples, each with 8 attributes like income of the block, age of the houses per district etc. The task is to predict the cost of the houses per district.\n",
        "\n",
        "Let us download and examine the dataset."
      ]
    },
    {
      "cell_type": "code",
      "metadata": {
        "id": "8LpqjN991GGJ",
        "colab": {
          "base_uri": "https://localhost:8080/"
        },
        "outputId": "b0be5295-0adf-4211-e801-a7754f3c9a49"
      },
      "source": [
        "dataset =  datasets.fetch_california_housing()\n",
        " # print(dataset.DESCR)  # uncomment this if you want to know more about this dataset\n",
        " # print(dataset.keys())  # if you want to know what else is there in this dataset\n",
        "dataset.target = dataset.target.astype(np.int) # so that we can classify\n",
        "print(dataset.data.shape)\n",
        "print(dataset.target.shape)"
      ],
      "execution_count": 112,
      "outputs": [
        {
          "output_type": "stream",
          "name": "stdout",
          "text": [
            "(20640, 8)\n",
            "(20640,)\n"
          ]
        },
        {
          "output_type": "stream",
          "name": "stderr",
          "text": [
            "<ipython-input-112-60ae2e9a125e>:4: DeprecationWarning: `np.int` is a deprecated alias for the builtin `int`. To silence this warning, use `int` by itself. Doing this will not modify any behavior and is safe. When replacing `np.int`, you may wish to use e.g. `np.int64` or `np.int32` to specify the precision. If you wish to review your current use, check the release note link for additional information.\n",
            "Deprecated in NumPy 1.20; for more details and guidance: https://numpy.org/devdocs/release/1.20.0-notes.html#deprecations\n",
            "  dataset.target = dataset.target.astype(np.int) # so that we can classify\n"
          ]
        }
      ]
    },
    {
      "cell_type": "markdown",
      "metadata": {
        "id": "iNx4174W5xRg"
      },
      "source": [
        "Here is a function for calculating the 1-nearest neighbours"
      ]
    },
    {
      "cell_type": "code",
      "metadata": {
        "id": "07zpydQj1hIQ"
      },
      "source": [
        "def NN1(traindata, trainlabel, query):\n",
        "  diff  = traindata - query  # find the difference between features. Numpy automatically takes care of the size here\n",
        "  sq = diff*diff # square the differences\n",
        "  dist = sq.sum(1) # add up the squares\n",
        "  label = trainlabel[np.argmin(dist)] # our predicted label is the label of the training data which has the least distance from the query\n",
        "  return label\n",
        "\n",
        "def NN(traindata, trainlabel, testdata):\n",
        "  # we will run nearest neighbour for each sample in the test data\n",
        "  # and collect the predicted classes in an array using list comprehension\n",
        "  predlabel = np.array([NN1(traindata, trainlabel, i) for i in testdata])\n",
        "  return predlabel"
      ],
      "execution_count": 113,
      "outputs": []
    },
    {
      "cell_type": "markdown",
      "metadata": {
        "id": "03JktkfIGaje"
      },
      "source": [
        "We will also define a 'random classifier', which randomly allots labels to each sample"
      ]
    },
    {
      "cell_type": "code",
      "metadata": {
        "id": "fogWAtjyGhAH"
      },
      "source": [
        "def RandomClassifier(traindata, trainlabel, testdata):\n",
        "  # in reality, we don't need these arguments\n",
        "\n",
        "  classes = np.unique(trainlabel)\n",
        "  rints = rng.integers(low=0, high=len(classes), size=len(testdata))\n",
        "  predlabel = classes[rints]\n",
        "  return predlabel"
      ],
      "execution_count": 114,
      "outputs": []
    },
    {
      "cell_type": "markdown",
      "metadata": {
        "id": "1Hjf1KHs7fU5"
      },
      "source": [
        "Let us define a metric 'Accuracy' to see how good our learning algorithm is. Accuracy is the ratio of the number of correctly classified samples to the total number of samples. The higher the accuracy, the better the algorithm."
      ]
    },
    {
      "cell_type": "code",
      "metadata": {
        "id": "ouuCqWU07bz-"
      },
      "source": [
        "def Accuracy(gtlabel, predlabel):\n",
        "  assert len(gtlabel)==len(predlabel), \"Length of the groundtruth labels and predicted labels should be the same\"\n",
        "  correct = (gtlabel==predlabel).sum() # count the number of times the groundtruth label is equal to the predicted label.\n",
        "  return correct/len(gtlabel)"
      ],
      "execution_count": 115,
      "outputs": []
    },
    {
      "cell_type": "markdown",
      "metadata": {
        "id": "4vJFwBFa9Klw"
      },
      "source": [
        "Let us make a function to split the dataset with the desired probability."
      ]
    },
    {
      "cell_type": "code",
      "metadata": {
        "id": "Ko0VzpSM2Tdi"
      },
      "source": [
        "def split(data, label, percent):\n",
        "  # generate a random number for each sample\n",
        "  rnd = rng.random(len(label))\n",
        "  split1 = rnd<percent\n",
        "  split2 = rnd>=percent\n",
        "  split1data = data[split1,:]\n",
        "  split1label = label[split1]\n",
        "  split2data = data[split2,:]\n",
        "  split2label = label[split2]\n",
        "  return split1data, split1label, split2data, split2label"
      ],
      "execution_count": 116,
      "outputs": []
    },
    {
      "cell_type": "markdown",
      "metadata": {
        "id": "AcK3LEAJ_LGC"
      },
      "source": [
        "We will reserve 20% of our dataset as the test set. We will not change this portion throughout our experiments"
      ]
    },
    {
      "cell_type": "code",
      "metadata": {
        "id": "bBZkHBLJ1iU-",
        "colab": {
          "base_uri": "https://localhost:8080/"
        },
        "outputId": "16ff5754-b3e7-40fd-8aac-79631455e9be"
      },
      "source": [
        "testdata, testlabel, alltraindata, alltrainlabel = split(dataset.data, dataset.target, 20/100)\n",
        "print('Number of test samples = ', len(testlabel))\n",
        "print('Number of other samples = ', len(alltrainlabel))\n",
        "print('Percent of test data = ', len(testlabel)*100/len(dataset.target),'%')"
      ],
      "execution_count": 117,
      "outputs": [
        {
          "output_type": "stream",
          "name": "stdout",
          "text": [
            "Number of test samples =  4144\n",
            "Number of other samples =  16496\n",
            "Percent of test data =  20.07751937984496 %\n"
          ]
        }
      ]
    },
    {
      "cell_type": "markdown",
      "metadata": {
        "id": "a6Ss0Z6IAGNV"
      },
      "source": [
        "## Experiments with splits\n",
        "\n",
        "Let us reserve some of our train data as a validation set"
      ]
    },
    {
      "cell_type": "code",
      "metadata": {
        "id": "WFew2iry_7W7"
      },
      "source": [
        "traindata, trainlabel, valdata, vallabel = split(alltraindata, alltrainlabel, 75/100)"
      ],
      "execution_count": 118,
      "outputs": []
    },
    {
      "cell_type": "markdown",
      "metadata": {
        "id": "60hiu4clFN1i"
      },
      "source": [
        "What is the accuracy of our classifiers on the train dataset?"
      ]
    },
    {
      "cell_type": "code",
      "metadata": {
        "id": "DBlZDTHUFTZx",
        "colab": {
          "base_uri": "https://localhost:8080/"
        },
        "outputId": "600cca5c-e077-43ff-91a6-5a5c9a5c1c37"
      },
      "source": [
        "trainpred = NN(traindata, trainlabel, traindata)\n",
        "trainAccuracy = Accuracy(trainlabel, trainpred)\n",
        "print(\"Train accuracy using nearest neighbour is \", trainAccuracy)\n",
        "\n",
        "trainpred = RandomClassifier(traindata, trainlabel, traindata)\n",
        "trainAccuracy = Accuracy(trainlabel, trainpred)\n",
        "print(\"Train accuracy using random classifier is \", trainAccuracy)"
      ],
      "execution_count": 119,
      "outputs": [
        {
          "output_type": "stream",
          "name": "stdout",
          "text": [
            "Train accuracy using nearest neighbour is  1.0\n",
            "Train accuracy using random classifier is  0.164375808538163\n"
          ]
        }
      ]
    },
    {
      "cell_type": "markdown",
      "metadata": {
        "id": "7h08-9gJDtSy"
      },
      "source": [
        "For nearest neighbour, the train accuracy is always 1. The accuracy of the random classifier is close to 1/(number of classes) which is 0.1666 in our case.\n",
        "\n",
        "Let us predict the labels for our validation set and get the accuracy"
      ]
    },
    {
      "cell_type": "code",
      "metadata": {
        "id": "4h7bXoW_2H3v",
        "colab": {
          "base_uri": "https://localhost:8080/"
        },
        "outputId": "c0ef1dd3-b629-4b5c-fd16-23f5dcfcceb9"
      },
      "source": [
        "valpred = NN(traindata, trainlabel, valdata)\n",
        "valAccuracy = Accuracy(vallabel, valpred)\n",
        "print(\"Validation accuracy using nearest neighbour is \", valAccuracy)\n",
        "\n",
        "valpred = RandomClassifier(traindata, trainlabel, valdata)\n",
        "valAccuracy = Accuracy(vallabel, valpred)\n",
        "print(\"Validation accuracy using random classifier is \", valAccuracy)"
      ],
      "execution_count": 120,
      "outputs": [
        {
          "output_type": "stream",
          "name": "stdout",
          "text": [
            "Validation accuracy using nearest neighbour is  0.34108527131782945\n",
            "Validation accuracy using random classifier is  0.1688468992248062\n"
          ]
        }
      ]
    },
    {
      "cell_type": "markdown",
      "metadata": {
        "id": "py9bLguFEjfg"
      },
      "source": [
        "Validation accuracy of nearest neighbour is considerably less than its train accuracy while the validation accuracy of random classifier is the same. However, the validation accuracy of nearest neighbour is twice that of the random classifier.\n",
        "\n",
        "Now let us try another random split and check the validation accuracy"
      ]
    },
    {
      "cell_type": "code",
      "metadata": {
        "id": "ujm3cyYzEntE",
        "colab": {
          "base_uri": "https://localhost:8080/"
        },
        "outputId": "74db3745-dd27-4f22-9ade-9aa3bbfbda17"
      },
      "source": [
        "traindata, trainlabel, valdata, vallabel = split(alltraindata, alltrainlabel, 75/100)\n",
        "valpred = NN(traindata, trainlabel, valdata)\n",
        "valAccuracy = Accuracy(vallabel, valpred)\n",
        "print(\"Validation accuracy of nearest neighbour is \", valAccuracy)"
      ],
      "execution_count": 121,
      "outputs": [
        {
          "output_type": "stream",
          "name": "stdout",
          "text": [
            "Validation accuracy of nearest neighbour is  0.34048257372654156\n"
          ]
        }
      ]
    },
    {
      "cell_type": "code",
      "source": [
        "traindata1, trainlabel1, valdata1, vallabel1 = split(alltraindata, alltrainlabel, 60/100)\n",
        "valpred1 = NN(traindata1, trainlabel1, valdata1)\n",
        "valAccuracy1 = Accuracy(vallabel1, valpred1)\n",
        "print(\"Validation accuracy of nearest neighbour is \", valAccuracy1)"
      ],
      "metadata": {
        "colab": {
          "base_uri": "https://localhost:8080/"
        },
        "id": "0mk1EIFsUq1U",
        "outputId": "a93fe1a3-1adb-41f2-926f-fc47971248c8"
      },
      "execution_count": 122,
      "outputs": [
        {
          "output_type": "stream",
          "name": "stdout",
          "text": [
            "Validation accuracy of nearest neighbour is  0.33398496240601505\n"
          ]
        }
      ]
    },
    {
      "cell_type": "code",
      "source": [
        "traindata1, trainlabel1, valdata1, vallabel1 = split(alltraindata, alltrainlabel, 80/100)\n",
        "valpred1 = NN(traindata1, trainlabel1, valdata1)\n",
        "valAccuracy1 = Accuracy(vallabel1, valpred1)\n",
        "print(\"Validation accuracy of nearest neighbour is \", valAccuracy1)"
      ],
      "metadata": {
        "colab": {
          "base_uri": "https://localhost:8080/"
        },
        "id": "_oCGzN1CUvYj",
        "outputId": "6a471713-650f-450f-c761-f7e9947cdfc2"
      },
      "execution_count": 123,
      "outputs": [
        {
          "output_type": "stream",
          "name": "stdout",
          "text": [
            "Validation accuracy of nearest neighbour is  0.33763440860215055\n"
          ]
        }
      ]
    },
    {
      "cell_type": "code",
      "source": [
        "traindata1, trainlabel1, valdata1, vallabel1 = split(alltraindata, alltrainlabel, 90/100)\n",
        "valpred1 = NN(traindata1, trainlabel1, valdata1)\n",
        "valAccuracy1 = Accuracy(vallabel1, valpred1)\n",
        "print(\"Validation accuracy of nearest neighbour is \", valAccuracy1)"
      ],
      "metadata": {
        "colab": {
          "base_uri": "https://localhost:8080/"
        },
        "id": "nsjrT0oPUyCs",
        "outputId": "bb444502-6722-4eea-c7d9-94eddcae40cf"
      },
      "execution_count": 124,
      "outputs": [
        {
          "output_type": "stream",
          "name": "stdout",
          "text": [
            "Validation accuracy of nearest neighbour is  0.34474474474474476\n"
          ]
        }
      ]
    },
    {
      "cell_type": "markdown",
      "metadata": {
        "id": "oSOx7U83EKie"
      },
      "source": [
        "You can run the above cell multiple times to try with different random splits.\n",
        "We notice that the accuracy is different for each run, but close together.\n",
        "\n",
        "Now let us compare it with the accuracy we get on the test dataset."
      ]
    },
    {
      "cell_type": "code",
      "metadata": {
        "id": "PNEZ5ToYBEDW",
        "colab": {
          "base_uri": "https://localhost:8080/"
        },
        "outputId": "f1e95c15-ced1-4d8e-ecd9-0fc645bf9f8c"
      },
      "source": [
        "testpred = NN(alltraindata, alltrainlabel, testdata)\n",
        "testAccuracy = Accuracy(testlabel, testpred)\n",
        "print('Test accuracy is ', testAccuracy)"
      ],
      "execution_count": 125,
      "outputs": [
        {
          "output_type": "stream",
          "name": "stdout",
          "text": [
            "Test accuracy is  0.34917953667953666\n"
          ]
        }
      ]
    },
    {
      "cell_type": "markdown",
      "metadata": {
        "id": "w3dGD531K3gH"
      },
      "source": [
        "### Try it out for yourself and answer:\n",
        "1. How is the accuracy of the validation set affected if we increase the percentage of validation set? What happens when we reduce it?\n",
        "2. How does the size of the train and validation set affect how well we can predict the accuracy on the test set using the validation set?\n",
        "3. What do you think is a good percentage to reserve for the validation set so that thest two factors are balanced?\n",
        "\n",
        "Answer for both nearest neighbour and random classifier. You can note down the values for your experiments and plot a graph using  <a href=https://matplotlib.org/stable/gallery/lines_bars_and_markers/step_demo.html#sphx-glr-gallery-lines-bars-and-markers-step-demo-py>plt.plot<href>. Check also for extreme values for splits, like 99.9% or 0.1%"
      ]
    },
    {
      "cell_type": "markdown",
      "source": [
        "**Ans 1:-**  Increasing  the validation set  may force a model to be trained on smaller data leading to underfitting (high Bias)\n",
        "\n",
        "\n",
        "Increasing  the validation set  may  result in a  model  to be trained on larger data leading to overfitting (high Variance)"
      ],
      "metadata": {
        "id": "dOq8RiZwVTpa"
      }
    },
    {
      "cell_type": "code",
      "source": [
        "\n",
        "\n",
        "\n",
        "traindata2, trainlabel2, valdata2, vallabel2 = split(alltraindata, alltrainlabel, 80/100)\n",
        "valpred2 = NN(traindata2, trainlabel2, valdata2)\n",
        "valAccuracy2 = Accuracy(vallabel2, valpred2)\n",
        "print(\"Validation accuracy of nearest neighbour  with 80 20 split is \", valAccuracy2)\n",
        "\n",
        "valpredr2 = RandomClassifier(traindata2, trainlabel2, valdata2)\n",
        "valAccuracyr2 =  Accuracy(vallabel2, valpredr2)\n",
        "print(\"Validation accuracy of Random classifier  with 80 20 split is \", valAccuracyr2)\n",
        "\n",
        "\n",
        "traindata3, trainlabel3, valdata3, vallabel3 = split(alltraindata, alltrainlabel, 90/100)\n",
        "valpred3 = NN(traindata3, trainlabel3, valdata3)\n",
        "valAccuracy3 = Accuracy(vallabel3, valpred3)\n",
        "print(\"Validation accuracy of nearest neighbour  with 90 10 split is \", valAccuracy3)\n",
        "\n",
        "\n",
        "valpredr3 = RandomClassifier(traindata3, trainlabel3, valdata3)\n",
        "valAccuracyr3 =  Accuracy(vallabel3, valpredr3)\n",
        "print(\"Validation accuracy of Random classifier  with 90 10  split is \", valAccuracyr3)\n",
        "\n",
        "\n",
        "traindata4, trainlabel4, valdata4, vallabel4 = split(alltraindata, alltrainlabel, 95/100)\n",
        "valpred4 = NN(traindata4, trainlabel4, valdata4)\n",
        "valAccuracy4 = Accuracy(vallabel4, valpred4)\n",
        "print(\"Validation accuracy of nearest neighbour  with 95 05 split is \", valAccuracy4)\n",
        "\n",
        "\n",
        "valpredr4 = RandomClassifier(traindata4, trainlabel4, valdata4)\n",
        "valAccuracyr4 =  Accuracy(vallabel4, valpredr4)\n",
        "print(\"Validation accuracy of Random classifier  with 95 05 split is \", valAccuracyr4)\n",
        "\n",
        "\n",
        "\n",
        "traindata6, trainlabel6, valdata6, vallabel6 = split(alltraindata, alltrainlabel, 70/100)\n",
        "valpred6 = NN(traindata6, trainlabel6, valdata6)\n",
        "valAccuracy6 = Accuracy(vallabel6, valpred6)\n",
        "print(\"Validation accuracy of nearest neighbour  with 70 30 split is \", valAccuracy6)\n",
        "\n",
        "valpredr6 = RandomClassifier(traindata6, trainlabel6, valdata6)\n",
        "valAccuracyr6 =  Accuracy(vallabel6, valpredr6)\n",
        "print(\"Validation accuracy of Random classifier  with 70 30 split is \", valAccuracyr6)\n",
        "\n",
        "\n",
        "traindata5, trainlabel5, valdata5, vallabel5 = split(alltraindata, alltrainlabel,60/100)\n",
        "valpred5 = NN(traindata5, trainlabel5, valdata5)\n",
        "valAccuracy5 = Accuracy(vallabel5, valpred5)\n",
        "print(\"Validation accuracy of nearest neighbour  with 60 40 split is \", valAccuracy5)\n",
        "\n",
        "\n",
        "valpredr5 = RandomClassifier(traindata5, trainlabel5, valdata5)\n",
        "valAccuracyr5 =  Accuracy(vallabel5, valpredr5)\n",
        "print(\"Validation accuracy of Random classifier  with 60 40 split is \", valAccuracyr5)\n",
        "\n",
        "\n",
        "\n",
        "traindata7, trainlabel7, valdata7, vallabel7 = split(alltraindata, alltrainlabel, 50/100)\n",
        "valpred7 = NN(traindata7, trainlabel7, valdata7)\n",
        "valAccuracy7 = Accuracy(vallabel7, valpred7)\n",
        "print(\"Validation accuracy of nearest neighbour  with 50 50 split is \", valAccuracy7)\n",
        "\n",
        "valpredr7 = RandomClassifier(traindata7, trainlabel7, valdata7)\n",
        "valAccuracyr7 =  Accuracy(vallabel7, valpredr7)\n",
        "print(\"Validation accuracy of Random classifier  with 50 50 split is \", valAccuracyr7)\n",
        "\n",
        "\n",
        "traindata8, trainlabel8, valdata8, vallabel8 = split(alltraindata, alltrainlabel, 99.9/100)\n",
        "valpred8 = NN(traindata8, trainlabel8, valdata8)\n",
        "valAccuracy8 = Accuracy(vallabel8, valpred8)\n",
        "print(\"Validation accuracy of nearest neighbour  with 99.9 0.1 split is \", valAccuracy8)\n",
        "\n",
        "\n",
        "valpredr8 = RandomClassifier(traindata8, trainlabel8, valdata8)\n",
        "valAccuracyr8 =  Accuracy(vallabel8, valpredr8)\n",
        "print(\"Validation accuracy of Random classifier  with 99.9 0.1  split is \", valAccuracyr8)\n",
        "\n",
        "\n",
        "\n",
        "traindata9, trainlabel9, valdata9, vallabel9 = split(alltraindata, alltrainlabel, 0.1/100)\n",
        "valpred9 = NN(traindata9, trainlabel9, valdata9)\n",
        "valAccuracy9 = Accuracy(vallabel9, valpred9)\n",
        "print(\"Validation accuracy of nearest neighbour  with 0.1 99.9 split is \", valAccuracy9)\n",
        "\n",
        "\n",
        "valpredr9 = RandomClassifier(traindata9, trainlabel9, valdata9)\n",
        "valAccuracyr9 =  Accuracy(vallabel9, valpredr9)\n",
        "print(\"Validation accuracy of Random classifier  with 0.1 99.9 split is \", valAccuracyr9)\n",
        "\n",
        "\n"
      ],
      "metadata": {
        "colab": {
          "base_uri": "https://localhost:8080/"
        },
        "id": "pXwnH7ZcVJQc",
        "outputId": "26fbb473-2c36-4e4c-a8af-227ee58a42fe"
      },
      "execution_count": 126,
      "outputs": [
        {
          "output_type": "stream",
          "name": "stdout",
          "text": [
            "Validation accuracy of nearest neighbour  with 80 20 split is  0.33853688399142945\n",
            "Validation accuracy of Random classifier  with 80 20 split is  0.16406489133761862\n",
            "Validation accuracy of nearest neighbour  with 90 10 split is  0.359211337030191\n",
            "Validation accuracy of Random classifier  with 90 10  split is  0.19593345656192238\n",
            "Validation accuracy of nearest neighbour  with 95 05 split is  0.37456242707117854\n",
            "Validation accuracy of Random classifier  with 95 05 split is  0.14002333722287047\n",
            "Validation accuracy of nearest neighbour  with 70 30 split is  0.33747993579454255\n",
            "Validation accuracy of Random classifier  with 70 30 split is  0.17014446227929375\n",
            "Validation accuracy of nearest neighbour  with 60 40 split is  0.3332818771225687\n",
            "Validation accuracy of Random classifier  with 60 40 split is  0.17026860142019143\n",
            "Validation accuracy of nearest neighbour  with 50 50 split is  0.3281793119980822\n",
            "Validation accuracy of Random classifier  with 50 50 split is  0.16852451156658277\n",
            "Validation accuracy of nearest neighbour  with 99.9 0.1 split is  0.23529411764705882\n",
            "Validation accuracy of Random classifier  with 99.9 0.1  split is  0.23529411764705882\n",
            "Validation accuracy of nearest neighbour  with 0.1 99.9 split is  0.2304099951479864\n",
            "Validation accuracy of Random classifier  with 0.1 99.9 split is  0.2725012130033964\n"
          ]
        }
      ]
    },
    {
      "cell_type": "code",
      "source": [
        "import matplotlib.pyplot as plt\n",
        "\n",
        "X= np.array([80,90,95,70,60,50,99.9,0.1])\n",
        "\n",
        "Y1= np.array([valAccuracyr2,valAccuracyr3,valAccuracyr4,valAccuracyr6,valAccuracyr5,valAccuracyr7],dtype='float')\n",
        "Y1= np.array([valAccuracyr2,valAccuracyr3,valAccuracyr4,valAccuracyr6,valAccuracyr5,valAccuracyr7,valAccuracyr8,valAccuracyr9],dtype='float')\n",
        "Y2=np.array([valAccuracy2,valAccuracy3,valAccuracy4,valAccuracy6,valAccuracy5,valAccuracy7,valAccuracy8,valAccuracy9],dtype='float')\n",
        "plt.plot(X, Y1,label = \"Random Classifier\")\n",
        "plt.plot(X, Y2,label = \"Nearest Classifier\")\n",
        "\n",
        "plt.legend()\n",
        "plt.show()"
      ],
      "metadata": {
        "colab": {
          "base_uri": "https://localhost:8080/",
          "height": 430
        },
        "id": "IX61Qnr1fHAT",
        "outputId": "e9b772c8-52ad-4640-d72a-8c4dc2b2e056"
      },
      "execution_count": 127,
      "outputs": [
        {
          "output_type": "display_data",
          "data": {
            "text/plain": [
              "<Figure size 640x480 with 1 Axes>"
            ],
            "image/png": "[encoded data removed]"
          },
          "metadata": {}
        }
      ]
    },
    {
      "cell_type": "markdown",
      "source": [
        "**Ans 2:-** Size of the data is important factor as more data or less data effects the models accuracy there by leading to underfitting (model finds an overly generalized surface ) , where as using small split may cause it to overfit leading to errors while predicting on unseen data"
      ],
      "metadata": {
        "id": "-36zuJhGZoXl"
      }
    },
    {
      "cell_type": "markdown",
      "source": [
        "**Ans 3:-** The splitting criteria depends on the size of data and problem underconsideration when looking at static validation set 80-20 will be optimal split , Where as using k fold cross validation would yeild better results  "
      ],
      "metadata": {
        "id": "JH1UJykHZI0t"
      }
    },
    {
      "cell_type": "markdown",
      "metadata": {
        "id": "PnYvkAZLQY7h"
      },
      "source": [
        "## Multiple Splits\n",
        "\n",
        "One way to get more accurate estimates for the test accuracy is by using <b>crossvalidation</b>. Here, we will try a simple version, where we do multiple train/val splits and take the average of validation accuracies as the test accuracy estimation. Here is a function for doing this. Note that this function will take a long time to execute."
      ]
    },
    {
      "cell_type": "code",
      "metadata": {
        "id": "E4nGCUQXBTzo"
      },
      "source": [
        "# you can use this function for random classifier also\n",
        "def AverageAccuracy(alldata, alllabel, splitpercent, iterations, classifier=NN):\n",
        "  accuracy = 0\n",
        "  for ii in range(iterations):\n",
        "    traindata, trainlabel, valdata, vallabel = split(alldata, alllabel, splitpercent)\n",
        "    valpred = classifier(traindata, trainlabel, valdata)\n",
        "    accuracy += Accuracy(vallabel, valpred)\n",
        "  return accuracy/iterations # average of all accuracies"
      ],
      "execution_count": 128,
      "outputs": []
    },
    {
      "cell_type": "code",
      "metadata": {
        "id": "H3qtNar7Bbik",
        "colab": {
          "base_uri": "https://localhost:8080/"
        },
        "outputId": "c8657c6a-b892-4c07-b0ef-f418a87a4204"
      },
      "source": [
        "print('Average validation accuracy is ', AverageAccuracy(alltraindata, alltrainlabel, 75/100, 10, classifier=NN))\n",
        "testpred = NN(alltraindata, alltrainlabel, testdata)\n",
        "print('test accuracy is ',Accuracy(testlabel, testpred) )"
      ],
      "execution_count": 129,
      "outputs": [
        {
          "output_type": "stream",
          "name": "stdout",
          "text": [
            "Average validation accuracy is  0.3413843633486969\n",
            "test accuracy is  0.34917953667953666\n"
          ]
        }
      ]
    },
    {
      "cell_type": "markdown",
      "metadata": {
        "id": "33GIn4x5VH-d"
      },
      "source": [
        "This is a very simple way of doing cross-validation. There are many well-known algorithms for cross-validation, like k-fold cross-validation, leave-one-out etc. This will be covered in detail in a later module. For more information about cross-validation, check <a href=https://en.wikipedia.org/wiki/Cross-validation_(statistics)>Cross-validatioin (Wikipedia)</a>\n",
        "\n",
        "### Questions\n",
        "1. Does averaging the validation accuracy across multiple splits give more consistent results?\n",
        "2. Does it give more accurate estimate of test accuracy?\n",
        "3. What is the effect of the number of iterations on the estimate? Do we get a better estimate with higher iterations?\n",
        "4. Consider the results you got for the previous questions. Can we deal with a very small train dataset or validation dataset by increasing the iterations?\n"
      ]
    },
    {
      "cell_type": "markdown",
      "source": [
        "**Ans 1** Yes ,averaging the validation accuracy across multiple splits gives more consistent results.\n",
        "\n",
        "**Ans 2** Yes ,averaging the validation accuracy across multiple splits gives almost same accuracy as test accuracy\n",
        "\n",
        "**Ans 3**  Increases the estimate of accuracy, but needs more computational power\n",
        "\n",
        "**Ans 4**  Increasing the Iterations does have limitations like predicting variable perforamce measure i.e accuracy predicted will be significantly different from test"
      ],
      "metadata": {
        "id": "2KV3DVEvis_g"
      }
    },
    {
      "cell_type": "code",
      "source": [
        "a1= AverageAccuracy(alltraindata, alltrainlabel, 70/100, 10, classifier=NN)\n",
        "a2= AverageAccuracy(alltraindata, alltrainlabel, 80/100, 10, classifier=NN)\n",
        "a3= AverageAccuracy(alltraindata, alltrainlabel, 60/100, 10, classifier=NN)\n",
        "a4= AverageAccuracy(alltraindata, alltrainlabel, 95/100, 10, classifier=NN)\n",
        "a5 = np.array([a1,a2,a3,a4]).mean()\n",
        "print('Average validation accuracy is ', a5)\n",
        "testpred = NN(alltraindata, alltrainlabel, testdata)\n",
        "a=Accuracy(testlabel, testpred)\n",
        "print('test accuracy is ',Accuracy(testlabel, testpred))"
      ],
      "metadata": {
        "colab": {
          "base_uri": "https://localhost:8080/"
        },
        "id": "doEthPA2jhDH",
        "outputId": "068fbb3b-9849-446f-bd36-59071c3c2f19"
      },
      "execution_count": 130,
      "outputs": [
        {
          "output_type": "stream",
          "name": "stdout",
          "text": [
            "Average validation accuracy is  0.34079848636436666\n",
            "test accuracy is  0.34917953667953666\n"
          ]
        }
      ]
    },
    {
      "cell_type": "code",
      "source": [
        "for i in range(10,80,10):\n",
        "  print(f'Average validation accuracy  with iterations {i} is ', AverageAccuracy(alltraindata, alltrainlabel, 75/100, i, classifier=NN))\n"
      ],
      "metadata": {
        "colab": {
          "base_uri": "https://localhost:8080/"
        },
        "id": "dLJSgActkKs6",
        "outputId": "307ffe94-c2ab-48cb-d91a-a0b9056e0e16"
      },
      "execution_count": 133,
      "outputs": [
        {
          "output_type": "stream",
          "name": "stdout",
          "text": [
            "Average validation accuracy  with iterations 10 is  0.33986318569356894\n",
            "Average validation accuracy  with iterations 20 is  0.3420398032022499\n",
            "Average validation accuracy  with iterations 30 is  0.339982718078262\n",
            "Average validation accuracy  with iterations 40 is  0.34060185195965625\n",
            "Average validation accuracy  with iterations 50 is  0.339236095224372\n",
            "Average validation accuracy  with iterations 60 is  0.3403241101240248\n",
            "Average validation accuracy  with iterations 70 is  0.3396176106205592\n"
          ]
        }
      ]
    },
    {
      "cell_type": "code",
      "source": [],
      "metadata": {
        "id": "mEamGD4AklLa"
      },
      "execution_count": null,
      "outputs": []
    }
  ]
}